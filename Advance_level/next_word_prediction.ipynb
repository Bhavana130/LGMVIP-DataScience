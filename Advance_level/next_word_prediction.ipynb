{
  "nbformat": 4,
  "nbformat_minor": 0,
  "metadata": {
    "colab": {
      "provenance": [],
      "authorship_tag": "ABX9TyPluABaU0QVSIifgRgQJBJv",
      "include_colab_link": true
    },
    "kernelspec": {
      "name": "python3",
      "display_name": "Python 3"
    },
    "language_info": {
      "name": "python"
    }
  },
  "cells": [
    {
      "cell_type": "markdown",
      "metadata": {
        "id": "view-in-github",
        "colab_type": "text"
      },
      "source": [
        "<a href=\"https://colab.research.google.com/github/Bhavana130/LGMVIP-DataScience/blob/main/Advance_level/next_word_prediction.ipynb\" target=\"_parent\"><img src=\"https://colab.research.google.com/assets/colab-badge.svg\" alt=\"Open In Colab\"/></a>"
      ]
    },
    {
      "cell_type": "code",
      "execution_count": null,
      "metadata": {
        "id": "btV7kH0ODxcz"
      },
      "outputs": [],
      "source": [
        "import numpy as np\n",
        "from nltk.tokenize import RegexpTokenizer\n",
        "from keras.models import Sequential, load_model\n",
        "from keras.layers import LSTM\n",
        "from keras.layers.core import Dense, Activation\n",
        "from keras.optimizers import RMSprop\n",
        "import matplotlib.pyplot as plt\n",
        "import pickle\n",
        "import heapq"
      ]
    },
    {
      "cell_type": "code",
      "source": [
        "text = open('/content/1661-0.txt').read().lower()\n",
        "print('corpus length:', len(text))"
      ],
      "metadata": {
        "colab": {
          "base_uri": "https://localhost:8080/"
        },
        "id": "CN3JPFgrD-r5",
        "outputId": "de5c366c-c3ea-41fd-a08d-349b705b1a9f"
      },
      "execution_count": null,
      "outputs": [
        {
          "output_type": "stream",
          "name": "stdout",
          "text": [
            "corpus length: 581889\n"
          ]
        }
      ]
    },
    {
      "cell_type": "code",
      "source": [
        "tokenizer = RegexpTokenizer(r'\\w+')\n",
        "words = tokenizer.tokenize(text)"
      ],
      "metadata": {
        "id": "PGvgwLJXEPcU"
      },
      "execution_count": null,
      "outputs": []
    },
    {
      "cell_type": "code",
      "source": [
        "unique_words = np.unique(words)\n",
        "unique_word_index = dict((c, i) for i, c in enumerate(unique_words))"
      ],
      "metadata": {
        "id": "rQ_40j7gEUJQ"
      },
      "execution_count": null,
      "outputs": []
    },
    {
      "cell_type": "code",
      "source": [
        "WORD_LENGTH = 5\n",
        "prev_words = []\n",
        "next_words = []\n",
        "for i in range(len(words) - WORD_LENGTH):\n",
        "    prev_words.append(words[i:i + WORD_LENGTH])\n",
        "    next_words.append(words[i + WORD_LENGTH])\n",
        "print(prev_words[0])\n",
        "print(next_words[0])"
      ],
      "metadata": {
        "colab": {
          "base_uri": "https://localhost:8080/"
        },
        "id": "AkoCg61-EYK3",
        "outputId": "60d57ffd-148d-45aa-de82-382822776474"
      },
      "execution_count": null,
      "outputs": [
        {
          "output_type": "stream",
          "name": "stdout",
          "text": [
            "['project', 'gutenberg', 's', 'the', 'adventures']\n",
            "of\n"
          ]
        }
      ]
    },
    {
      "cell_type": "code",
      "source": [
        "X = np.zeros((len(prev_words), WORD_LENGTH, len(unique_words)), dtype=bool)\n",
        "Y = np.zeros((len(next_words), len(unique_words)), dtype=bool)"
      ],
      "metadata": {
        "id": "alD-6zObEc7H"
      },
      "execution_count": null,
      "outputs": []
    },
    {
      "cell_type": "code",
      "source": [
        "for i, each_words in enumerate(prev_words):\n",
        "    for j, each_word in enumerate(each_words):\n",
        "        X[i, j, unique_word_index[each_word]] = 1\n",
        "    Y[i, unique_word_index[next_words[i]]] = 1"
      ],
      "metadata": {
        "id": "lYxiURRwEgTm"
      },
      "execution_count": null,
      "outputs": []
    },
    {
      "cell_type": "code",
      "source": [
        "print(X[0][0])"
      ],
      "metadata": {
        "colab": {
          "base_uri": "https://localhost:8080/"
        },
        "id": "06X94iF-Ek-o",
        "outputId": "d5bf0ed6-77eb-4059-c1ea-07377bed62ce"
      },
      "execution_count": null,
      "outputs": [
        {
          "output_type": "stream",
          "name": "stdout",
          "text": [
            "[False False False ... False False False]\n"
          ]
        }
      ]
    },
    {
      "cell_type": "code",
      "source": [
        "model = Sequential()\n",
        "model.add(LSTM(128, input_shape=(WORD_LENGTH, len(unique_words))))\n",
        "model.add(Dense(len(unique_words)))\n",
        "model.add(Activation('softmax'))"
      ],
      "metadata": {
        "id": "sjnDExeLEoQ2"
      },
      "execution_count": null,
      "outputs": []
    },
    {
      "cell_type": "code",
      "source": [
        "optimizer = RMSprop(lr=0.01)\n",
        "model.compile(loss='categorical_crossentropy', optimizer=optimizer, metrics=['accuracy'])\n",
        "history = model.fit(X, Y, validation_split=0.05, batch_size=128, epochs=20, shuffle=True).history"
      ],
      "metadata": {
        "colab": {
          "base_uri": "https://localhost:8080/"
        },
        "id": "p9u9La3XEr_w",
        "outputId": "146757a6-af4b-4969-bd4d-3aaac21d69cf"
      },
      "execution_count": null,
      "outputs": [
        {
          "output_type": "stream",
          "name": "stderr",
          "text": [
            "/usr/local/lib/python3.10/dist-packages/keras/optimizers/legacy/rmsprop.py:143: UserWarning: The `lr` argument is deprecated, use `learning_rate` instead.\n",
            "  super().__init__(name, **kwargs)\n"
          ]
        },
        {
          "output_type": "stream",
          "name": "stdout",
          "text": [
            "Epoch 1/20\n",
            "811/811 [==============================] - 304s 370ms/step - loss: 6.0109 - accuracy: 0.1077 - val_loss: 7.1041 - val_accuracy: 0.1020\n",
            "Epoch 2/20\n",
            "811/811 [==============================] - 279s 344ms/step - loss: 5.7918 - accuracy: 0.1479 - val_loss: 7.8803 - val_accuracy: 0.1027\n",
            "Epoch 3/20\n",
            "811/811 [==============================] - 287s 354ms/step - loss: 5.7524 - accuracy: 0.1760 - val_loss: 8.0439 - val_accuracy: 0.0972\n",
            "Epoch 4/20\n",
            "811/811 [==============================] - 280s 345ms/step - loss: 5.4524 - accuracy: 0.2113 - val_loss: 8.2174 - val_accuracy: 0.1011\n",
            "Epoch 5/20\n",
            "811/811 [==============================] - 285s 351ms/step - loss: 5.1042 - accuracy: 0.2509 - val_loss: 8.6077 - val_accuracy: 0.1018\n",
            "Epoch 6/20\n",
            "811/811 [==============================] - 282s 348ms/step - loss: 4.7821 - accuracy: 0.2937 - val_loss: 8.4852 - val_accuracy: 0.0879\n",
            "Epoch 7/20\n",
            "811/811 [==============================] - 283s 349ms/step - loss: 4.4804 - accuracy: 0.3338 - val_loss: 8.8890 - val_accuracy: 0.0866\n",
            "Epoch 8/20\n",
            "811/811 [==============================] - 287s 354ms/step - loss: 4.2307 - accuracy: 0.3716 - val_loss: 8.9628 - val_accuracy: 0.0860\n",
            "Epoch 9/20\n",
            "811/811 [==============================] - 292s 360ms/step - loss: 4.0096 - accuracy: 0.4040 - val_loss: 9.0853 - val_accuracy: 0.0848\n",
            "Epoch 10/20\n",
            "811/811 [==============================] - 303s 374ms/step - loss: 3.8480 - accuracy: 0.4340 - val_loss: 9.2235 - val_accuracy: 0.0771\n",
            "Epoch 11/20\n",
            "811/811 [==============================] - 288s 355ms/step - loss: 3.7052 - accuracy: 0.4613 - val_loss: 9.4209 - val_accuracy: 0.0698\n",
            "Epoch 12/20\n",
            "811/811 [==============================] - 284s 350ms/step - loss: 3.5820 - accuracy: 0.4853 - val_loss: 9.5540 - val_accuracy: 0.0723\n",
            "Epoch 13/20\n",
            "811/811 [==============================] - 274s 338ms/step - loss: 3.4682 - accuracy: 0.5093 - val_loss: 9.5898 - val_accuracy: 0.0714\n",
            "Epoch 14/20\n",
            "811/811 [==============================] - 281s 346ms/step - loss: 3.3886 - accuracy: 0.5279 - val_loss: 9.8583 - val_accuracy: 0.0641\n",
            "Epoch 15/20\n",
            "811/811 [==============================] - 278s 343ms/step - loss: 3.3092 - accuracy: 0.5457 - val_loss: 9.9912 - val_accuracy: 0.0650\n",
            "Epoch 16/20\n",
            "811/811 [==============================] - 272s 335ms/step - loss: 3.2233 - accuracy: 0.5613 - val_loss: 10.0551 - val_accuracy: 0.0622\n",
            "Epoch 17/20\n",
            "811/811 [==============================] - 254s 313ms/step - loss: 3.1584 - accuracy: 0.5736 - val_loss: 10.1457 - val_accuracy: 0.0639\n",
            "Epoch 18/20\n",
            "811/811 [==============================] - 253s 312ms/step - loss: 3.1170 - accuracy: 0.5834 - val_loss: 10.3739 - val_accuracy: 0.0619\n",
            "Epoch 19/20\n",
            "811/811 [==============================] - 267s 330ms/step - loss: 3.0980 - accuracy: 0.5903 - val_loss: 10.1080 - val_accuracy: 0.0615\n",
            "Epoch 20/20\n",
            "811/811 [==============================] - 294s 363ms/step - loss: 3.0529 - accuracy: 0.5992 - val_loss: 10.5185 - val_accuracy: 0.0601\n"
          ]
        }
      ]
    },
    {
      "cell_type": "code",
      "source": [
        "model.save('keras_next_word_model.h5')\n",
        "pickle.dump(history, open(\"history.p\", \"wb\"))\n",
        "\n",
        "model = load_model('keras_next_word_model.h5')\n",
        "history = pickle.load(open(\"history.p\", \"rb\"))"
      ],
      "metadata": {
        "id": "avtaqrOlaH6n"
      },
      "execution_count": null,
      "outputs": []
    },
    {
      "cell_type": "code",
      "source": [
        "def prepare_input(text):\n",
        "    x = np.zeros((1, WORD_LENGTH, len(unique_words)))\n",
        "    for t, word in enumerate(text.split()):\n",
        "        print(word)\n",
        "        x[0, t, unique_word_index[word]] = 1\n",
        "    return x\n",
        "prepare_input(\"It is not a lack\".lower())"
      ],
      "metadata": {
        "colab": {
          "base_uri": "https://localhost:8080/"
        },
        "id": "01WGyR6Ga3pU",
        "outputId": "26ec8eca-6ed7-4bf7-d2c0-4ff4c4b73ab3"
      },
      "execution_count": null,
      "outputs": [
        {
          "output_type": "stream",
          "name": "stdout",
          "text": [
            "it\n",
            "is\n",
            "not\n",
            "a\n",
            "lack\n"
          ]
        },
        {
          "output_type": "execute_result",
          "data": {
            "text/plain": [
              "array([[[0., 0., 0., ..., 0., 0., 0.],\n",
              "        [0., 0., 0., ..., 0., 0., 0.],\n",
              "        [0., 0., 0., ..., 0., 0., 0.],\n",
              "        [0., 0., 0., ..., 0., 0., 0.],\n",
              "        [0., 0., 0., ..., 0., 0., 0.]]])"
            ]
          },
          "metadata": {},
          "execution_count": 12
        }
      ]
    },
    {
      "cell_type": "code",
      "source": [
        "def sample(preds, top_n=3):\n",
        "    preds = np.asarray(preds).astype('float64')\n",
        "    preds = np.log(preds)\n",
        "    exp_preds = np.exp(preds)\n",
        "    preds = exp_preds / np.sum(exp_preds)\n",
        "    return heapq.nlargest(top_n, range(len(preds)), preds.take)\n",
        "                                   "
      ],
      "metadata": {
        "id": "rojhZvSRa72n"
      },
      "execution_count": null,
      "outputs": []
    },
    {
      "cell_type": "code",
      "source": [
        "def predict_completions(text, n=3):\n",
        "    if text == \"\":\n",
        "        return(\"0\")\n",
        "    x = prepare_input(text)\n",
        "    preds = model.predict(x, verbose=0)[0]\n",
        "    next_indices = sample(preds, n)\n",
        "    return [unique_words[idx] for idx in next_indices]"
      ],
      "metadata": {
        "id": "3OfqIQBpa_IN"
      },
      "execution_count": null,
      "outputs": []
    },
    {
      "cell_type": "code",
      "source": [
        "q =  \"Your life will never be there in the same situation again\"\n",
        "print(\"correct sentence: \",q)\n",
        "seq = \" \".join(tokenizer.tokenize(q.lower())[0:5])\n",
        "print(\"Sequence: \",seq)\n",
        "print(\"next possible words: \", predict_completions(seq, 5))"
      ],
      "metadata": {
        "colab": {
          "base_uri": "https://localhost:8080/"
        },
        "id": "nAn8oL3_bBzv",
        "outputId": "a9161fdf-e329-407b-f6ff-fe428900f420"
      },
      "execution_count": null,
      "outputs": [
        {
          "output_type": "stream",
          "name": "stdout",
          "text": [
            "correct sentence:  Your life will never be there in the same situation again\n",
            "Sequence:  your life will never be\n",
            "your\n",
            "life\n",
            "will\n",
            "never\n",
            "be\n",
            "next possible words:  ['any', 'if', 'some', 'more', 'find']\n"
          ]
        }
      ]
    }
  ]
}